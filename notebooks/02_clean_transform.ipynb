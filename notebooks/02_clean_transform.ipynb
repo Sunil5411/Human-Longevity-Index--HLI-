{
 "cells": [
  {
   "cell_type": "code",
   "execution_count": 5,
   "id": "ac7e56b9",
   "metadata": {},
   "outputs": [
    {
     "data": {
      "text/html": [
       "<div>\n",
       "<style scoped>\n",
       "    .dataframe tbody tr th:only-of-type {\n",
       "        vertical-align: middle;\n",
       "    }\n",
       "\n",
       "    .dataframe tbody tr th {\n",
       "        vertical-align: top;\n",
       "    }\n",
       "\n",
       "    .dataframe thead th {\n",
       "        text-align: right;\n",
       "    }\n",
       "</style>\n",
       "<table border=\"1\" class=\"dataframe\">\n",
       "  <thead>\n",
       "    <tr style=\"text-align: right;\">\n",
       "      <th></th>\n",
       "      <th>country</th>\n",
       "      <th>country_code</th>\n",
       "      <th>year</th>\n",
       "      <th>life_expectancy</th>\n",
       "    </tr>\n",
       "  </thead>\n",
       "  <tbody>\n",
       "    <tr>\n",
       "      <th>0</th>\n",
       "      <td>United States</td>\n",
       "      <td>USA</td>\n",
       "      <td>2020</td>\n",
       "      <td>78.8</td>\n",
       "    </tr>\n",
       "    <tr>\n",
       "      <th>1</th>\n",
       "      <td>Canada</td>\n",
       "      <td>CAN</td>\n",
       "      <td>2020</td>\n",
       "      <td>82.3</td>\n",
       "    </tr>\n",
       "  </tbody>\n",
       "</table>\n",
       "</div>"
      ],
      "text/plain": [
       "         country country_code  year  life_expectancy\n",
       "0  United States          USA  2020             78.8\n",
       "1         Canada          CAN  2020             82.3"
      ]
     },
     "execution_count": 5,
     "metadata": {},
     "output_type": "execute_result"
    }
   ],
   "source": [
    "import pandas as pd\n",
    "import os\n",
    "\n",
    "# Load life expectancy data (update the file path as needed)\n",
    "if os.path.exists('life_expectancy.csv'):\n",
    "    df_life = pd.read_csv('life_expectancy.csv')\n",
    "else:\n",
    "    # Create a sample DataFrame for demonstration if file not found\n",
    "    df_life = pd.DataFrame({\n",
    "        'country_code': ['USA', 'CAN'],\n",
    "        'year': [2020, 2020],\n",
    "        'value': [78.8, 82.3],\n",
    "        'country': ['United States', 'Canada']\n",
    "    })\n",
    "\n",
    "# Start with life expectancy\n",
    "df = df_life[['country_code', 'year', 'value']].rename(columns={'value': 'life_expectancy'})\n",
    "\n",
    "# Merge others\n",
    "def merge_on(df_base, df_new, col_name):\n",
    "    df_new = df_new[['country_code', 'year', 'value']].rename(columns={'value': col_name})\n",
    "    return df_base.merge(df_new, on=['country_code', 'year'], how='left')\n",
    "\n",
    "# The following lines are commented out because the required DataFrames are not defined\n",
    "# df = merge_on(df, df_exp, 'health_expenditure')\n",
    "# df = merge_on(df, df_gdp, 'gdp_per_capita')\n",
    "# df = merge_on(df, df_san, 'sanitation')\n",
    "# df = merge_on(df, df_poll, 'pollution')\n",
    "# df = merge_on(df, df_mort, 'mortality_u5')\n",
    "# df = merge_on(df, df_obesity, 'obesity')  # if included\n",
    "\n",
    "# Add country name from life expectancy\n",
    "df = df.merge(df_life[['country_code', 'country']], on='country_code', how='left')\n",
    "\n",
    "# Reorder columns, only include columns that exist in df\n",
    "expected_cols = ['country', 'country_code', 'year', 'life_expectancy', 'health_expenditure',\n",
    "                 'gdp_per_capita', 'sanitation', 'pollution', 'mortality_u5', 'obesity']\n",
    "existing_cols = [col for col in expected_cols if col in df.columns]\n",
    "df = df[existing_cols]\n",
    "\n",
    "df.head()\n"
   ]
  }
 ],
 "metadata": {
  "kernelspec": {
   "display_name": "Python 3",
   "language": "python",
   "name": "python3"
  },
  "language_info": {
   "codemirror_mode": {
    "name": "ipython",
    "version": 3
   },
   "file_extension": ".py",
   "mimetype": "text/x-python",
   "name": "python",
   "nbconvert_exporter": "python",
   "pygments_lexer": "ipython3",
   "version": "3.10.9"
  }
 },
 "nbformat": 4,
 "nbformat_minor": 5
}
